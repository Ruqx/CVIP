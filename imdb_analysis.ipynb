{
 "cells": [
  {
   "cell_type": "markdown",
   "id": "c4438f5a-d8fb-4595-be0b-fa444a199d0d",
   "metadata": {},
   "source": [
    "# IMPORTING THE REQUIRED LYBRARIES"
   ]
  },
  {
   "cell_type": "code",
   "execution_count": 153,
   "id": "6a191184-c9ca-416c-a1b4-9ec47f6b7311",
   "metadata": {
    "tags": []
   },
   "outputs": [],
   "source": [
    "import pandas as pd\n",
    "import seaborn as sns \n",
    "import matplotlib.pyplot as plt\n",
    "import numpy as np"
   ]
  },
  {
   "cell_type": "code",
   "execution_count": 154,
   "id": "28216837-efe5-4e2a-ab7e-86ae2e5aaa91",
   "metadata": {
    "tags": []
   },
   "outputs": [
    {
     "name": "stdout",
     "output_type": "stream",
     "text": [
      "<class 'pandas.core.frame.DataFrame'>\n",
      "RangeIndex: 10178 entries, 0 to 10177\n",
      "Data columns (total 12 columns):\n",
      " #   Column      Non-Null Count  Dtype  \n",
      "---  ------      --------------  -----  \n",
      " 0   names       10178 non-null  object \n",
      " 1   date_x      10178 non-null  object \n",
      " 2   score       10178 non-null  float64\n",
      " 3   genre       10093 non-null  object \n",
      " 4   overview    10178 non-null  object \n",
      " 5   crew        10122 non-null  object \n",
      " 6   orig_title  10178 non-null  object \n",
      " 7   status      10178 non-null  object \n",
      " 8   orig_lang   10178 non-null  object \n",
      " 9   budget_x    10178 non-null  float64\n",
      " 10  revenue     10178 non-null  float64\n",
      " 11  country     10178 non-null  object \n",
      "dtypes: float64(3), object(9)\n",
      "memory usage: 954.3+ KB\n"
     ]
    }
   ],
   "source": [
    "data=pd.read_csv(r'C:\\Users\\Lenovo\\Desktop\\CVIP\\imdb_movies.csv')\n",
    "data.shape\n",
    "data.info()"
   ]
  },
  {
   "cell_type": "markdown",
   "id": "9ce31b70-2951-4c13-9635-8dccd6c1b56b",
   "metadata": {
    "tags": []
   },
   "source": [
    "# CLEANSING IMDB DATASET"
   ]
  },
  {
   "cell_type": "code",
   "execution_count": 155,
   "id": "5d59647c-7a93-43d1-9b29-65a2eb79270a",
   "metadata": {},
   "outputs": [
    {
     "data": {
      "text/plain": [
       "names          0\n",
       "date_x         0\n",
       "score          0\n",
       "genre         85\n",
       "overview       0\n",
       "crew          56\n",
       "orig_title     0\n",
       "status         0\n",
       "orig_lang      0\n",
       "budget_x       0\n",
       "revenue        0\n",
       "country        0\n",
       "dtype: int64"
      ]
     },
     "execution_count": 155,
     "metadata": {},
     "output_type": "execute_result"
    }
   ],
   "source": [
    "#find thecount of null values\n",
    "data.isnull().sum()\n",
    "#our data only needs to be cleaned for 2 columns"
   ]
  },
  {
   "cell_type": "code",
   "execution_count": 156,
   "id": "86cfe339-855b-4f07-bbbd-9dd9e5dbd608",
   "metadata": {
    "tags": []
   },
   "outputs": [
    {
     "data": {
      "text/plain": [
       "5755     0.02\n",
       "5637     0.02\n",
       "3906     0.02\n",
       "10076    0.02\n",
       "6458     0.02\n",
       "         ... \n",
       "3399     0.00\n",
       "3400     0.00\n",
       "3401     0.00\n",
       "3402     0.00\n",
       "10177    0.00\n",
       "Length: 10178, dtype: float64"
      ]
     },
     "execution_count": 156,
     "metadata": {},
     "output_type": "execute_result"
    }
   ],
   "source": [
    "#the precentage of the data missing for rows\n",
    "round(data.isnull().sum(axis=1).sort_values(ascending=False)/len(data)*100,3)"
   ]
  },
  {
   "cell_type": "code",
   "execution_count": 157,
   "id": "1a10e15c-ce5d-4da9-836a-61a0803c5bf8",
   "metadata": {
    "tags": []
   },
   "outputs": [
    {
     "data": {
      "text/plain": [
       "'data.drop(name_of_the_column)'"
      ]
     },
     "execution_count": 157,
     "metadata": {},
     "output_type": "execute_result"
    }
   ],
   "source": [
    "#dropping the unnecceasary columns\n",
    "'''data.drop(name_of_the_column)'''\n",
    "#we do not need to remove any column as all teh column has some value fo analysing"
   ]
  },
  {
   "cell_type": "code",
   "execution_count": 158,
   "id": "c5abc976-7ae9-4b51-9746-89dd06ac7e5c",
   "metadata": {
    "tags": []
   },
   "outputs": [],
   "source": [
    "#we will remove the missing values\n",
    "data=data[data['genre'].notnull()]\n",
    "data=data[data['crew'].notnull()]"
   ]
  },
  {
   "cell_type": "code",
   "execution_count": 159,
   "id": "2788e0fc-a501-41e1-a01d-42bdbf588d08",
   "metadata": {
    "tags": []
   },
   "outputs": [
    {
     "data": {
      "text/plain": [
       "names         0.0\n",
       "date_x        0.0\n",
       "score         0.0\n",
       "genre         0.0\n",
       "overview      0.0\n",
       "crew          0.0\n",
       "orig_title    0.0\n",
       "status        0.0\n",
       "orig_lang     0.0\n",
       "budget_x      0.0\n",
       "revenue       0.0\n",
       "country       0.0\n",
       "dtype: float64"
      ]
     },
     "execution_count": 159,
     "metadata": {},
     "output_type": "execute_result"
    }
   ],
   "source": [
    "#rechecking if we have any missing data\n",
    "round(data.isnull().sum().sort_values(ascending=False)/len(data)*100,5)"
   ]
  },
  {
   "cell_type": "code",
   "execution_count": 160,
   "id": "4121ae66-d2f5-4108-8d57-964f9e10f30c",
   "metadata": {
    "tags": []
   },
   "outputs": [
    {
     "data": {
      "text/plain": [
       "0"
      ]
     },
     "execution_count": 160,
     "metadata": {},
     "output_type": "execute_result"
    }
   ],
   "source": [
    "#checking if there is any rows which has more than five missing values\n",
    "(data.isnull().sum(axis=1).sort_values(ascending=False)>5).sum()"
   ]
  },
  {
   "cell_type": "code",
   "execution_count": 161,
   "id": "e57732a7-a9a3-45ad-af24-19d142c34cab",
   "metadata": {
    "tags": []
   },
   "outputs": [
    {
     "data": {
      "text/plain": [
       "score\n",
       "68.0    469\n",
       "65.0    441\n",
       "69.0    435\n",
       "63.0    432\n",
       "66.0    421\n",
       "       ... \n",
       "91.0      1\n",
       "92.0      1\n",
       "93.0      1\n",
       "98.0      1\n",
       "18.0      1\n",
       "Name: score, Length: 78, dtype: int64"
      ]
     },
     "execution_count": 161,
     "metadata": {},
     "output_type": "execute_result"
    }
   ],
   "source": [
    "#use this for plotiing a histogram\n",
    "data.groupby('score').score.count().sort_values(ascending=False)"
   ]
  },
  {
   "cell_type": "code",
   "execution_count": 162,
   "id": "edafec87-04e9-4fba-b7bd-8a32ac4a7810",
   "metadata": {
    "tags": []
   },
   "outputs": [
    {
     "data": {
      "text/plain": [
       "orig_lang\n",
       " English                                7381\n",
       " Japanese                                675\n",
       " Spanish, Castilian                      388\n",
       " Korean                                  384\n",
       " French                                  282\n",
       " Chinese                                 144\n",
       " Italian                                 142\n",
       " Cantonese                               141\n",
       " German                                   89\n",
       " Russian                                  65\n",
       " Tagalog                                  42\n",
       " Portuguese                               35\n",
       " Thai                                     33\n",
       " Norwegian                                29\n",
       " Hindi                                    26\n",
       " Polish                                   26\n",
       " Danish                                   23\n",
       " Swedish                                  22\n",
       " Dutch, Flemish                           21\n",
       " Turkish                                  21\n",
       " Indonesian                               11\n",
       " Finnish                                   6\n",
       " Greek                                     6\n",
       " Telugu                                    6\n",
       " Tamil                                     5\n",
       " Persian                                   4\n",
       " Ukrainian                                 4\n",
       " Arabic                                    4\n",
       " Malayalam                                 3\n",
       " Vietnamese                                3\n",
       " Icelandic                                 3\n",
       " Kannada                                   2\n",
       " Catalan, Valencian                        2\n",
       " Czech                                     2\n",
       " Romanian                                  2\n",
       " Hungarian                                 2\n",
       " Malay                                     2\n",
       " Gujarati                                  1\n",
       " Bengali                                   1\n",
       " Bokmål, Norwegian, Norwegian Bokmål       1\n",
       " Central Khmer                             1\n",
       " Dzongkha                                  1\n",
       " Galician                                  1\n",
       " Macedonian                                1\n",
       " Slovak                                    1\n",
       " Serbo-Croatian                            1\n",
       " Irish                                     1\n",
       " Basque                                    1\n",
       " Oriya                                     1\n",
       " Latin                                     1\n",
       " No Language                               1\n",
       " Latvian                                   1\n",
       " Serbian                                   1\n",
       "Name: orig_lang, dtype: int64"
      ]
     },
     "execution_count": 162,
     "metadata": {},
     "output_type": "execute_result"
    }
   ],
   "source": [
    "data.groupby('orig_lang').orig_lang.count().sort_values(ascending=False)"
   ]
  },
  {
   "cell_type": "code",
   "execution_count": 163,
   "id": "14d039c9-f000-499d-98a2-8aa87973a221",
   "metadata": {
    "tags": []
   },
   "outputs": [
    {
     "data": {
      "text/plain": [
       "count        10052\n",
       "unique          53\n",
       "top        English\n",
       "freq          7381\n",
       "Name: orig_lang, dtype: object"
      ]
     },
     "execution_count": 163,
     "metadata": {},
     "output_type": "execute_result"
    }
   ],
   "source": [
    "data.orig_lang.describe()"
   ]
  },
  {
   "cell_type": "code",
   "execution_count": 164,
   "id": "964167b9-09e4-4672-9fa4-5d1df676bf54",
   "metadata": {
    "tags": []
   },
   "outputs": [
    {
     "data": {
      "text/plain": [
       "0"
      ]
     },
     "execution_count": 164,
     "metadata": {},
     "output_type": "execute_result"
    }
   ],
   "source": [
    "data['orig_lang'].isnull().sum()\n",
    "#we do not have any null values in the language column so we do not need to do any fillings\n",
    "#same thing can be said for the rest of the columns "
   ]
  },
  {
   "cell_type": "markdown",
   "id": "e38c4868-d7c0-4383-afad-91b51966f84a",
   "metadata": {},
   "source": [
    "# ANALYSING IMDB DATASET"
   ]
  },
  {
   "cell_type": "code",
   "execution_count": 165,
   "id": "30e3bfb7-7e2e-4f49-9ac9-eea1b3b67e4b",
   "metadata": {},
   "outputs": [],
   "source": [
    "#data analysing\n",
    "#code for unit conversion \n",
    "data['budget_x']=data['budget_x']/1000000\n",
    "data['revenue']=data['revenue']/1000000\n",
    "data['score']=data['score']/10"
   ]
  },
  {
   "cell_type": "code",
   "execution_count": 166,
   "id": "9e7b1bbf-841f-4ded-b4b1-04aba49e6f6b",
   "metadata": {
    "tags": []
   },
   "outputs": [],
   "source": [
    "#finding movies with highest profit\n",
    "#creating profit column\n",
    "data['profit']=data['revenue']-data['budget_x']"
   ]
  },
  {
   "cell_type": "code",
   "execution_count": 167,
   "id": "b56f35a9-3f89-45f0-9e6e-0efec08f542e",
   "metadata": {
    "tags": []
   },
   "outputs": [
    {
     "data": {
      "text/html": [
       "<div>\n",
       "<style scoped>\n",
       "    .dataframe tbody tr th:only-of-type {\n",
       "        vertical-align: middle;\n",
       "    }\n",
       "\n",
       "    .dataframe tbody tr th {\n",
       "        vertical-align: top;\n",
       "    }\n",
       "\n",
       "    .dataframe thead th {\n",
       "        text-align: right;\n",
       "    }\n",
       "</style>\n",
       "<table border=\"1\" class=\"dataframe\">\n",
       "  <thead>\n",
       "    <tr style=\"text-align: right;\">\n",
       "      <th></th>\n",
       "      <th>names</th>\n",
       "      <th>date_x</th>\n",
       "      <th>score</th>\n",
       "      <th>genre</th>\n",
       "      <th>overview</th>\n",
       "      <th>crew</th>\n",
       "      <th>orig_title</th>\n",
       "      <th>status</th>\n",
       "      <th>orig_lang</th>\n",
       "      <th>budget_x</th>\n",
       "      <th>revenue</th>\n",
       "      <th>country</th>\n",
       "      <th>profit</th>\n",
       "    </tr>\n",
       "  </thead>\n",
       "  <tbody>\n",
       "    <tr>\n",
       "      <th>68</th>\n",
       "      <td>Avatar</td>\n",
       "      <td>12/17/2009</td>\n",
       "      <td>7.6</td>\n",
       "      <td>Action, Adventure, Fantasy, Science Fiction</td>\n",
       "      <td>In the 22nd century, a paraplegic Marine is di...</td>\n",
       "      <td>Sam Worthington, Jake Sully, Zoe Saldaña, Neyt...</td>\n",
       "      <td>Avatar</td>\n",
       "      <td>Released</td>\n",
       "      <td>English</td>\n",
       "      <td>237.0</td>\n",
       "      <td>2923.706026</td>\n",
       "      <td>AU</td>\n",
       "      <td>2686.706026</td>\n",
       "    </tr>\n",
       "    <tr>\n",
       "      <th>230</th>\n",
       "      <td>Avengers: Endgame</td>\n",
       "      <td>04/24/2019</td>\n",
       "      <td>8.3</td>\n",
       "      <td>Adventure, Science Fiction, Action</td>\n",
       "      <td>After the devastating events of Avengers: Infi...</td>\n",
       "      <td>Robert Downey Jr., Tony Stark / Iron Man, Chri...</td>\n",
       "      <td>Avengers: Endgame</td>\n",
       "      <td>Released</td>\n",
       "      <td>English</td>\n",
       "      <td>400.0</td>\n",
       "      <td>2794.731755</td>\n",
       "      <td>AU</td>\n",
       "      <td>2394.731755</td>\n",
       "    </tr>\n",
       "    <tr>\n",
       "      <th>309</th>\n",
       "      <td>Titanic</td>\n",
       "      <td>12/18/1997</td>\n",
       "      <td>7.9</td>\n",
       "      <td>Drama, Romance</td>\n",
       "      <td>101-year-old Rose DeWitt Bukater tells the sto...</td>\n",
       "      <td>Leonardo DiCaprio, Jack Dawson, Kate Winslet, ...</td>\n",
       "      <td>Titanic</td>\n",
       "      <td>Released</td>\n",
       "      <td>English</td>\n",
       "      <td>200.0</td>\n",
       "      <td>2222.985568</td>\n",
       "      <td>AU</td>\n",
       "      <td>2022.985568</td>\n",
       "    </tr>\n",
       "    <tr>\n",
       "      <th>6670</th>\n",
       "      <td>Titanic</td>\n",
       "      <td>04/11/1953</td>\n",
       "      <td>6.6</td>\n",
       "      <td>Drama, Romance</td>\n",
       "      <td>Unhappily married, Julia Sturges decides to go...</td>\n",
       "      <td>Clifton Webb, Richard Ward Sturges, Barbara St...</td>\n",
       "      <td>Titanic</td>\n",
       "      <td>Released</td>\n",
       "      <td>English</td>\n",
       "      <td>200.0</td>\n",
       "      <td>2222.985568</td>\n",
       "      <td>US</td>\n",
       "      <td>2022.985568</td>\n",
       "    </tr>\n",
       "    <tr>\n",
       "      <th>4483</th>\n",
       "      <td>Louis Tomlinson: All of Those Voices</td>\n",
       "      <td>03/22/2023</td>\n",
       "      <td>9.1</td>\n",
       "      <td>Documentary, Music</td>\n",
       "      <td>Ditching the typical glossy sheen of celebrity...</td>\n",
       "      <td>Louis Tomlinson, Self, Oliver Wright, Louis’ P...</td>\n",
       "      <td>Louis Tomlinson: All of Those Voices</td>\n",
       "      <td>Released</td>\n",
       "      <td>English</td>\n",
       "      <td>178.8</td>\n",
       "      <td>2081.794006</td>\n",
       "      <td>GB</td>\n",
       "      <td>1902.994006</td>\n",
       "    </tr>\n",
       "    <tr>\n",
       "      <th>...</th>\n",
       "      <td>...</td>\n",
       "      <td>...</td>\n",
       "      <td>...</td>\n",
       "      <td>...</td>\n",
       "      <td>...</td>\n",
       "      <td>...</td>\n",
       "      <td>...</td>\n",
       "      <td>...</td>\n",
       "      <td>...</td>\n",
       "      <td>...</td>\n",
       "      <td>...</td>\n",
       "      <td>...</td>\n",
       "      <td>...</td>\n",
       "    </tr>\n",
       "    <tr>\n",
       "      <th>411</th>\n",
       "      <td>The Gray Man</td>\n",
       "      <td>07/14/2022</td>\n",
       "      <td>7.0</td>\n",
       "      <td>Action, Thriller</td>\n",
       "      <td>When a shadowy CIA agent uncovers damning agen...</td>\n",
       "      <td>Ryan Gosling, Six, Chris Evans, Lloyd Hansen, ...</td>\n",
       "      <td>The Gray Man</td>\n",
       "      <td>Released</td>\n",
       "      <td>English</td>\n",
       "      <td>200.0</td>\n",
       "      <td>0.451178</td>\n",
       "      <td>AU</td>\n",
       "      <td>-199.548822</td>\n",
       "    </tr>\n",
       "    <tr>\n",
       "      <th>414</th>\n",
       "      <td>Guardians of the Galaxy Volume 3</td>\n",
       "      <td>05/04/2023</td>\n",
       "      <td>0.0</td>\n",
       "      <td>Science Fiction, Adventure, Comedy</td>\n",
       "      <td>Peter Quill, still reeling from the loss of Ga...</td>\n",
       "      <td>Chris Pratt, Peter Quill / Star-Lord, Zoe Sald...</td>\n",
       "      <td>Guardians of the Galaxy Volume 3</td>\n",
       "      <td>Post Production</td>\n",
       "      <td>English</td>\n",
       "      <td>250.0</td>\n",
       "      <td>1.240262</td>\n",
       "      <td>AU</td>\n",
       "      <td>-248.759738</td>\n",
       "    </tr>\n",
       "    <tr>\n",
       "      <th>4471</th>\n",
       "      <td>Mission: Impossible - Dead Reckoning Part One</td>\n",
       "      <td>07/14/2023</td>\n",
       "      <td>0.0</td>\n",
       "      <td>Action, Adventure, Thriller</td>\n",
       "      <td>The seventh installment of the Mission: Imposs...</td>\n",
       "      <td>Tom Cruise, Ethan Hunt, Rebecca Ferguson, Ilsa...</td>\n",
       "      <td>Mission: Impossible - Dead Reckoning Part One</td>\n",
       "      <td>Post Production</td>\n",
       "      <td>English</td>\n",
       "      <td>290.0</td>\n",
       "      <td>1.240262</td>\n",
       "      <td>US</td>\n",
       "      <td>-288.759738</td>\n",
       "    </tr>\n",
       "    <tr>\n",
       "      <th>1546</th>\n",
       "      <td>Indiana Jones and the Dial of Destiny</td>\n",
       "      <td>06/30/2023</td>\n",
       "      <td>0.0</td>\n",
       "      <td>Adventure, Action</td>\n",
       "      <td>Finding himself in a new era, approaching reti...</td>\n",
       "      <td>Harrison Ford, Indiana Jones, Phoebe Waller-Br...</td>\n",
       "      <td>Indiana Jones and the Dial of Destiny</td>\n",
       "      <td>Post Production</td>\n",
       "      <td>English</td>\n",
       "      <td>294.7</td>\n",
       "      <td>1.240262</td>\n",
       "      <td>US</td>\n",
       "      <td>-293.459738</td>\n",
       "    </tr>\n",
       "    <tr>\n",
       "      <th>117</th>\n",
       "      <td>Fast X</td>\n",
       "      <td>05/19/2023</td>\n",
       "      <td>0.0</td>\n",
       "      <td>Action, Crime, Thriller</td>\n",
       "      <td>Over many missions and against impossible odds...</td>\n",
       "      <td>Vin Diesel, Dominic Toretto, Michelle Rodrigue...</td>\n",
       "      <td>Fast X</td>\n",
       "      <td>Post Production</td>\n",
       "      <td>English</td>\n",
       "      <td>340.0</td>\n",
       "      <td>0.000000</td>\n",
       "      <td>US</td>\n",
       "      <td>-340.000000</td>\n",
       "    </tr>\n",
       "  </tbody>\n",
       "</table>\n",
       "<p>10052 rows × 13 columns</p>\n",
       "</div>"
      ],
      "text/plain": [
       "                                              names       date_x  score  \\\n",
       "68                                           Avatar  12/17/2009     7.6   \n",
       "230                               Avengers: Endgame  04/24/2019     8.3   \n",
       "309                                         Titanic  12/18/1997     7.9   \n",
       "6670                                        Titanic  04/11/1953     6.6   \n",
       "4483           Louis Tomlinson: All of Those Voices  03/22/2023     9.1   \n",
       "...                                             ...          ...    ...   \n",
       "411                                    The Gray Man  07/14/2022     7.0   \n",
       "414                Guardians of the Galaxy Volume 3  05/04/2023     0.0   \n",
       "4471  Mission: Impossible - Dead Reckoning Part One  07/14/2023     0.0   \n",
       "1546          Indiana Jones and the Dial of Destiny  06/30/2023     0.0   \n",
       "117                                          Fast X  05/19/2023     0.0   \n",
       "\n",
       "                                            genre  \\\n",
       "68    Action, Adventure, Fantasy, Science Fiction   \n",
       "230            Adventure, Science Fiction, Action   \n",
       "309                                Drama, Romance   \n",
       "6670                               Drama, Romance   \n",
       "4483                           Documentary, Music   \n",
       "...                                           ...   \n",
       "411                              Action, Thriller   \n",
       "414            Science Fiction, Adventure, Comedy   \n",
       "4471                  Action, Adventure, Thriller   \n",
       "1546                            Adventure, Action   \n",
       "117                       Action, Crime, Thriller   \n",
       "\n",
       "                                               overview  \\\n",
       "68    In the 22nd century, a paraplegic Marine is di...   \n",
       "230   After the devastating events of Avengers: Infi...   \n",
       "309   101-year-old Rose DeWitt Bukater tells the sto...   \n",
       "6670  Unhappily married, Julia Sturges decides to go...   \n",
       "4483  Ditching the typical glossy sheen of celebrity...   \n",
       "...                                                 ...   \n",
       "411   When a shadowy CIA agent uncovers damning agen...   \n",
       "414   Peter Quill, still reeling from the loss of Ga...   \n",
       "4471  The seventh installment of the Mission: Imposs...   \n",
       "1546  Finding himself in a new era, approaching reti...   \n",
       "117   Over many missions and against impossible odds...   \n",
       "\n",
       "                                                   crew  \\\n",
       "68    Sam Worthington, Jake Sully, Zoe Saldaña, Neyt...   \n",
       "230   Robert Downey Jr., Tony Stark / Iron Man, Chri...   \n",
       "309   Leonardo DiCaprio, Jack Dawson, Kate Winslet, ...   \n",
       "6670  Clifton Webb, Richard Ward Sturges, Barbara St...   \n",
       "4483  Louis Tomlinson, Self, Oliver Wright, Louis’ P...   \n",
       "...                                                 ...   \n",
       "411   Ryan Gosling, Six, Chris Evans, Lloyd Hansen, ...   \n",
       "414   Chris Pratt, Peter Quill / Star-Lord, Zoe Sald...   \n",
       "4471  Tom Cruise, Ethan Hunt, Rebecca Ferguson, Ilsa...   \n",
       "1546  Harrison Ford, Indiana Jones, Phoebe Waller-Br...   \n",
       "117   Vin Diesel, Dominic Toretto, Michelle Rodrigue...   \n",
       "\n",
       "                                         orig_title            status  \\\n",
       "68                                           Avatar          Released   \n",
       "230                               Avengers: Endgame          Released   \n",
       "309                                         Titanic          Released   \n",
       "6670                                        Titanic          Released   \n",
       "4483           Louis Tomlinson: All of Those Voices          Released   \n",
       "...                                             ...               ...   \n",
       "411                                    The Gray Man          Released   \n",
       "414                Guardians of the Galaxy Volume 3   Post Production   \n",
       "4471  Mission: Impossible - Dead Reckoning Part One   Post Production   \n",
       "1546          Indiana Jones and the Dial of Destiny   Post Production   \n",
       "117                                          Fast X   Post Production   \n",
       "\n",
       "     orig_lang  budget_x      revenue country       profit  \n",
       "68     English     237.0  2923.706026      AU  2686.706026  \n",
       "230    English     400.0  2794.731755      AU  2394.731755  \n",
       "309    English     200.0  2222.985568      AU  2022.985568  \n",
       "6670   English     200.0  2222.985568      US  2022.985568  \n",
       "4483   English     178.8  2081.794006      GB  1902.994006  \n",
       "...        ...       ...          ...     ...          ...  \n",
       "411    English     200.0     0.451178      AU  -199.548822  \n",
       "414    English     250.0     1.240262      AU  -248.759738  \n",
       "4471   English     290.0     1.240262      US  -288.759738  \n",
       "1546   English     294.7     1.240262      US  -293.459738  \n",
       "117    English     340.0     0.000000      US  -340.000000  \n",
       "\n",
       "[10052 rows x 13 columns]"
      ]
     },
     "execution_count": 167,
     "metadata": {},
     "output_type": "execute_result"
    }
   ],
   "source": [
    "#sorting the data\n",
    "data.sort_values(by='profit',ascending=False)"
   ]
  },
  {
   "cell_type": "code",
   "execution_count": 168,
   "id": "34f3defb-5ee3-4eff-b7cb-7d93bc64aa93",
   "metadata": {
    "tags": []
   },
   "outputs": [],
   "source": [
    "#top 10 earning movie\n",
    "top10=data.sort_values(by='profit',ascending=False).head(10)"
   ]
  },
  {
   "cell_type": "code",
   "execution_count": 169,
   "id": "055cab04-1fe2-4814-9e5e-0f3c1f039b1d",
   "metadata": {
    "tags": []
   },
   "outputs": [],
   "source": [
    "#dropping the duplicate values\n",
    "data.drop_duplicates(keep='first',inplace=True)"
   ]
  },
  {
   "cell_type": "code",
   "execution_count": 170,
   "id": "6f97fdff-bf89-4ddd-8cd3-8d8292097878",
   "metadata": {
    "tags": []
   },
   "outputs": [
    {
     "data": {
      "text/html": [
       "<div>\n",
       "<style scoped>\n",
       "    .dataframe tbody tr th:only-of-type {\n",
       "        vertical-align: middle;\n",
       "    }\n",
       "\n",
       "    .dataframe tbody tr th {\n",
       "        vertical-align: top;\n",
       "    }\n",
       "\n",
       "    .dataframe thead th {\n",
       "        text-align: right;\n",
       "    }\n",
       "</style>\n",
       "<table border=\"1\" class=\"dataframe\">\n",
       "  <thead>\n",
       "    <tr style=\"text-align: right;\">\n",
       "      <th></th>\n",
       "      <th>names</th>\n",
       "      <th>date_x</th>\n",
       "      <th>score</th>\n",
       "      <th>genre</th>\n",
       "      <th>overview</th>\n",
       "      <th>crew</th>\n",
       "      <th>orig_title</th>\n",
       "      <th>status</th>\n",
       "      <th>orig_lang</th>\n",
       "      <th>budget_x</th>\n",
       "      <th>revenue</th>\n",
       "      <th>country</th>\n",
       "      <th>profit</th>\n",
       "    </tr>\n",
       "  </thead>\n",
       "  <tbody>\n",
       "    <tr>\n",
       "      <th>6433</th>\n",
       "      <td>Furin, hentai, monmon chômon</td>\n",
       "      <td>10/25/2019</td>\n",
       "      <td>10.0</td>\n",
       "      <td>Drama</td>\n",
       "      <td>Minoru is dead. However, he was conscious for ...</td>\n",
       "      <td>Tomoka Takase, Maya Iizuka, Riona Suzushiro, S...</td>\n",
       "      <td>不倫、変態、悶々弔問</td>\n",
       "      <td>Released</td>\n",
       "      <td>Japanese</td>\n",
       "      <td>201.000000</td>\n",
       "      <td>1569.323844</td>\n",
       "      <td>JP</td>\n",
       "      <td>1368.323844</td>\n",
       "    </tr>\n",
       "    <tr>\n",
       "      <th>443</th>\n",
       "      <td>El asistente</td>\n",
       "      <td>03/01/2023</td>\n",
       "      <td>10.0</td>\n",
       "      <td>Comedy</td>\n",
       "      <td>We don't have an overview translated in Englis...</td>\n",
       "      <td>Rodrigo Noya, Miguel, Luis Cao, Jimmy, Florenc...</td>\n",
       "      <td>El asistente</td>\n",
       "      <td>Released</td>\n",
       "      <td>Spanish, Castilian</td>\n",
       "      <td>201.000000</td>\n",
       "      <td>1569.323844</td>\n",
       "      <td>AR</td>\n",
       "      <td>1368.323844</td>\n",
       "    </tr>\n",
       "    <tr>\n",
       "      <th>934</th>\n",
       "      <td>Female Boss Hooker</td>\n",
       "      <td>08/31/2020</td>\n",
       "      <td>10.0</td>\n",
       "      <td>Drama, Romance</td>\n",
       "      <td>Ji-cheol is a job seeker who only plays and ea...</td>\n",
       "      <td>Ye Seul, , Lee Sul-ah-I, , Min Do-yoon, , Jo Y...</td>\n",
       "      <td>여사장 후리꾼</td>\n",
       "      <td>Released</td>\n",
       "      <td>Korean</td>\n",
       "      <td>201.000000</td>\n",
       "      <td>1569.323844</td>\n",
       "      <td>KR</td>\n",
       "      <td>1368.323844</td>\n",
       "    </tr>\n",
       "    <tr>\n",
       "      <th>277</th>\n",
       "      <td>Orgasm Lecture 2</td>\n",
       "      <td>02/20/2020</td>\n",
       "      <td>10.0</td>\n",
       "      <td>Drama</td>\n",
       "      <td>Yuner, Liu Ren, and Zhou Xian are college girl...</td>\n",
       "      <td>Min Do-yoon, , Park Soo-bin-III, , Hong Sae-he...</td>\n",
       "      <td>오르가즘 특강 2</td>\n",
       "      <td>Released</td>\n",
       "      <td>Korean</td>\n",
       "      <td>201.000000</td>\n",
       "      <td>1569.323844</td>\n",
       "      <td>KR</td>\n",
       "      <td>1368.323844</td>\n",
       "    </tr>\n",
       "    <tr>\n",
       "      <th>10046</th>\n",
       "      <td>Simulant</td>\n",
       "      <td>06/02/2023</td>\n",
       "      <td>10.0</td>\n",
       "      <td>Science Fiction, Thriller</td>\n",
       "      <td>Faye attempts to replace her newly deceased hu...</td>\n",
       "      <td>Robbie Amell, Evan, Jordana Brewster, Faye, Si...</td>\n",
       "      <td>Hello Stranger</td>\n",
       "      <td>Released</td>\n",
       "      <td>English</td>\n",
       "      <td>201.000000</td>\n",
       "      <td>1569.323844</td>\n",
       "      <td>US</td>\n",
       "      <td>1368.323844</td>\n",
       "    </tr>\n",
       "    <tr>\n",
       "      <th>...</th>\n",
       "      <td>...</td>\n",
       "      <td>...</td>\n",
       "      <td>...</td>\n",
       "      <td>...</td>\n",
       "      <td>...</td>\n",
       "      <td>...</td>\n",
       "      <td>...</td>\n",
       "      <td>...</td>\n",
       "      <td>...</td>\n",
       "      <td>...</td>\n",
       "      <td>...</td>\n",
       "      <td>...</td>\n",
       "      <td>...</td>\n",
       "    </tr>\n",
       "    <tr>\n",
       "      <th>2864</th>\n",
       "      <td>Reservoir Dogs</td>\n",
       "      <td>07/30/1993</td>\n",
       "      <td>8.1</td>\n",
       "      <td>Crime, Thriller</td>\n",
       "      <td>A botched robbery indicates a police informant...</td>\n",
       "      <td>Harvey Keitel, Mr. White / Larry Dimmick, Tim ...</td>\n",
       "      <td>Reservoir Dogs</td>\n",
       "      <td>Released</td>\n",
       "      <td>English</td>\n",
       "      <td>1.200000</td>\n",
       "      <td>2.990680</td>\n",
       "      <td>AU</td>\n",
       "      <td>1.790680</td>\n",
       "    </tr>\n",
       "    <tr>\n",
       "      <th>6133</th>\n",
       "      <td>Ran</td>\n",
       "      <td>09/01/1986</td>\n",
       "      <td>8.1</td>\n",
       "      <td>Action, Drama, History</td>\n",
       "      <td>With Ran, legendary director Akira Kurosawa re...</td>\n",
       "      <td>Tatsuya Nakadai, Lord Hidetora Ichimonji, Akir...</td>\n",
       "      <td>乱</td>\n",
       "      <td>Released</td>\n",
       "      <td>Japanese</td>\n",
       "      <td>11.500005</td>\n",
       "      <td>11.859533</td>\n",
       "      <td>AU</td>\n",
       "      <td>0.359528</td>\n",
       "    </tr>\n",
       "    <tr>\n",
       "      <th>6191</th>\n",
       "      <td>Ayla: The Daughter of War</td>\n",
       "      <td>06/21/2018</td>\n",
       "      <td>8.1</td>\n",
       "      <td>Drama, War, History</td>\n",
       "      <td>In 1950, amidst the ravages of the Korean War,...</td>\n",
       "      <td>İsmail Hacıoğlu, Süleyman Dirliği, Kim Seol, A...</td>\n",
       "      <td>Ayla</td>\n",
       "      <td>Released</td>\n",
       "      <td>Turkish</td>\n",
       "      <td>4.172781</td>\n",
       "      <td>60.006602</td>\n",
       "      <td>KR</td>\n",
       "      <td>55.833821</td>\n",
       "    </tr>\n",
       "    <tr>\n",
       "      <th>2976</th>\n",
       "      <td>Memories of Murder</td>\n",
       "      <td>05/02/2003</td>\n",
       "      <td>8.1</td>\n",
       "      <td>Crime, Drama, Thriller</td>\n",
       "      <td>1986 Gyunggi Province. The body of a young wom...</td>\n",
       "      <td>Song Kang-ho, Detective Park Doo-man, Kim Sang...</td>\n",
       "      <td>살인의 추억</td>\n",
       "      <td>Released</td>\n",
       "      <td>Korean</td>\n",
       "      <td>2.800000</td>\n",
       "      <td>26.000000</td>\n",
       "      <td>KR</td>\n",
       "      <td>23.200000</td>\n",
       "    </tr>\n",
       "    <tr>\n",
       "      <th>5611</th>\n",
       "      <td>Sailor Moon SuperS: The Movie: Black Dream Hole</td>\n",
       "      <td>07/11/2002</td>\n",
       "      <td>8.1</td>\n",
       "      <td>Animation, Fantasy, Action, Romance, Comedy</td>\n",
       "      <td>The wicked Badiyanu has come to capture all Ea...</td>\n",
       "      <td>Kotono Mitsuishi, Usagi Tsukino / Super Sailor...</td>\n",
       "      <td>劇場版　美少女戦士セーラームーンSuperS　セーラー9戦士集結！ブラック・ドリーム・ホー...</td>\n",
       "      <td>Released</td>\n",
       "      <td>Japanese</td>\n",
       "      <td>170.000000</td>\n",
       "      <td>662.012718</td>\n",
       "      <td>AU</td>\n",
       "      <td>492.012718</td>\n",
       "    </tr>\n",
       "  </tbody>\n",
       "</table>\n",
       "<p>250 rows × 13 columns</p>\n",
       "</div>"
      ],
      "text/plain": [
       "                                                 names       date_x  score  \\\n",
       "6433                      Furin, hentai, monmon chômon  10/25/2019    10.0   \n",
       "443                                       El asistente  03/01/2023    10.0   \n",
       "934                                 Female Boss Hooker  08/31/2020    10.0   \n",
       "277                                   Orgasm Lecture 2  02/20/2020    10.0   \n",
       "10046                                         Simulant  06/02/2023    10.0   \n",
       "...                                                ...          ...    ...   \n",
       "2864                                    Reservoir Dogs  07/30/1993     8.1   \n",
       "6133                                               Ran  09/01/1986     8.1   \n",
       "6191                         Ayla: The Daughter of War  06/21/2018     8.1   \n",
       "2976                                Memories of Murder  05/02/2003     8.1   \n",
       "5611   Sailor Moon SuperS: The Movie: Black Dream Hole  07/11/2002     8.1   \n",
       "\n",
       "                                             genre  \\\n",
       "6433                                         Drama   \n",
       "443                                         Comedy   \n",
       "934                                 Drama, Romance   \n",
       "277                                          Drama   \n",
       "10046                    Science Fiction, Thriller   \n",
       "...                                            ...   \n",
       "2864                               Crime, Thriller   \n",
       "6133                        Action, Drama, History   \n",
       "6191                           Drama, War, History   \n",
       "2976                        Crime, Drama, Thriller   \n",
       "5611   Animation, Fantasy, Action, Romance, Comedy   \n",
       "\n",
       "                                                overview  \\\n",
       "6433   Minoru is dead. However, he was conscious for ...   \n",
       "443    We don't have an overview translated in Englis...   \n",
       "934    Ji-cheol is a job seeker who only plays and ea...   \n",
       "277    Yuner, Liu Ren, and Zhou Xian are college girl...   \n",
       "10046  Faye attempts to replace her newly deceased hu...   \n",
       "...                                                  ...   \n",
       "2864   A botched robbery indicates a police informant...   \n",
       "6133   With Ran, legendary director Akira Kurosawa re...   \n",
       "6191   In 1950, amidst the ravages of the Korean War,...   \n",
       "2976   1986 Gyunggi Province. The body of a young wom...   \n",
       "5611   The wicked Badiyanu has come to capture all Ea...   \n",
       "\n",
       "                                                    crew  \\\n",
       "6433   Tomoka Takase, Maya Iizuka, Riona Suzushiro, S...   \n",
       "443    Rodrigo Noya, Miguel, Luis Cao, Jimmy, Florenc...   \n",
       "934    Ye Seul, , Lee Sul-ah-I, , Min Do-yoon, , Jo Y...   \n",
       "277    Min Do-yoon, , Park Soo-bin-III, , Hong Sae-he...   \n",
       "10046  Robbie Amell, Evan, Jordana Brewster, Faye, Si...   \n",
       "...                                                  ...   \n",
       "2864   Harvey Keitel, Mr. White / Larry Dimmick, Tim ...   \n",
       "6133   Tatsuya Nakadai, Lord Hidetora Ichimonji, Akir...   \n",
       "6191   İsmail Hacıoğlu, Süleyman Dirliği, Kim Seol, A...   \n",
       "2976   Song Kang-ho, Detective Park Doo-man, Kim Sang...   \n",
       "5611   Kotono Mitsuishi, Usagi Tsukino / Super Sailor...   \n",
       "\n",
       "                                              orig_title     status  \\\n",
       "6433                                          不倫、変態、悶々弔問   Released   \n",
       "443                                         El asistente   Released   \n",
       "934                                              여사장 후리꾼   Released   \n",
       "277                                            오르가즘 특강 2   Released   \n",
       "10046                                     Hello Stranger   Released   \n",
       "...                                                  ...        ...   \n",
       "2864                                      Reservoir Dogs   Released   \n",
       "6133                                                   乱   Released   \n",
       "6191                                                Ayla   Released   \n",
       "2976                                              살인의 추억   Released   \n",
       "5611    劇場版　美少女戦士セーラームーンSuperS　セーラー9戦士集結！ブラック・ドリーム・ホー...   Released   \n",
       "\n",
       "                 orig_lang    budget_x      revenue country       profit  \n",
       "6433              Japanese  201.000000  1569.323844      JP  1368.323844  \n",
       "443     Spanish, Castilian  201.000000  1569.323844      AR  1368.323844  \n",
       "934                 Korean  201.000000  1569.323844      KR  1368.323844  \n",
       "277                 Korean  201.000000  1569.323844      KR  1368.323844  \n",
       "10046              English  201.000000  1569.323844      US  1368.323844  \n",
       "...                    ...         ...          ...     ...          ...  \n",
       "2864               English    1.200000     2.990680      AU     1.790680  \n",
       "6133              Japanese   11.500005    11.859533      AU     0.359528  \n",
       "6191               Turkish    4.172781    60.006602      KR    55.833821  \n",
       "2976                Korean    2.800000    26.000000      KR    23.200000  \n",
       "5611              Japanese  170.000000   662.012718      AU   492.012718  \n",
       "\n",
       "[250 rows x 13 columns]"
      ]
     },
     "execution_count": 170,
     "metadata": {},
     "output_type": "execute_result"
    }
   ],
   "source": [
    "#top 250 movies based on the scores \n",
    "data[data['score']>7.5].sort_values(by='score',ascending=False).head(250)"
   ]
  },
  {
   "cell_type": "code",
   "execution_count": 171,
   "id": "e44fd236-bdff-4a34-9a95-5adba5ab6f84",
   "metadata": {
    "tags": []
   },
   "outputs": [
    {
     "data": {
      "text/html": [
       "<div>\n",
       "<style scoped>\n",
       "    .dataframe tbody tr th:only-of-type {\n",
       "        vertical-align: middle;\n",
       "    }\n",
       "\n",
       "    .dataframe tbody tr th {\n",
       "        vertical-align: top;\n",
       "    }\n",
       "\n",
       "    .dataframe thead th {\n",
       "        text-align: right;\n",
       "    }\n",
       "</style>\n",
       "<table border=\"1\" class=\"dataframe\">\n",
       "  <thead>\n",
       "    <tr style=\"text-align: right;\">\n",
       "      <th></th>\n",
       "      <th>names</th>\n",
       "      <th>date_x</th>\n",
       "      <th>score</th>\n",
       "      <th>genre</th>\n",
       "      <th>overview</th>\n",
       "      <th>crew</th>\n",
       "      <th>orig_title</th>\n",
       "      <th>status</th>\n",
       "      <th>orig_lang</th>\n",
       "      <th>budget_x</th>\n",
       "      <th>revenue</th>\n",
       "      <th>country</th>\n",
       "      <th>profit</th>\n",
       "      <th>s.no</th>\n",
       "    </tr>\n",
       "  </thead>\n",
       "  <tbody>\n",
       "    <tr>\n",
       "      <th>0</th>\n",
       "      <td>Creed III</td>\n",
       "      <td>03/02/2023</td>\n",
       "      <td>7.3</td>\n",
       "      <td>Drama, Action</td>\n",
       "      <td>After dominating the boxing world, Adonis Cree...</td>\n",
       "      <td>Michael B. Jordan, Adonis Creed, Tessa Thompso...</td>\n",
       "      <td>Creed III</td>\n",
       "      <td>Released</td>\n",
       "      <td>English</td>\n",
       "      <td>75.0</td>\n",
       "      <td>271.616668</td>\n",
       "      <td>AU</td>\n",
       "      <td>196.616668</td>\n",
       "      <td>1</td>\n",
       "    </tr>\n",
       "    <tr>\n",
       "      <th>1</th>\n",
       "      <td>Avatar: The Way of Water</td>\n",
       "      <td>12/15/2022</td>\n",
       "      <td>7.8</td>\n",
       "      <td>Science Fiction, Adventure, Action</td>\n",
       "      <td>Set more than a decade after the events of the...</td>\n",
       "      <td>Sam Worthington, Jake Sully, Zoe Saldaña, Neyt...</td>\n",
       "      <td>Avatar: The Way of Water</td>\n",
       "      <td>Released</td>\n",
       "      <td>English</td>\n",
       "      <td>460.0</td>\n",
       "      <td>2316.794914</td>\n",
       "      <td>AU</td>\n",
       "      <td>1856.794914</td>\n",
       "      <td>2</td>\n",
       "    </tr>\n",
       "    <tr>\n",
       "      <th>2</th>\n",
       "      <td>The Super Mario Bros. Movie</td>\n",
       "      <td>04/05/2023</td>\n",
       "      <td>7.6</td>\n",
       "      <td>Animation, Adventure, Family, Fantasy, Comedy</td>\n",
       "      <td>While working underground to fix a water main,...</td>\n",
       "      <td>Chris Pratt, Mario (voice), Anya Taylor-Joy, P...</td>\n",
       "      <td>The Super Mario Bros. Movie</td>\n",
       "      <td>Released</td>\n",
       "      <td>English</td>\n",
       "      <td>100.0</td>\n",
       "      <td>724.459031</td>\n",
       "      <td>AU</td>\n",
       "      <td>624.459031</td>\n",
       "      <td>3</td>\n",
       "    </tr>\n",
       "    <tr>\n",
       "      <th>3</th>\n",
       "      <td>Mummies</td>\n",
       "      <td>01/05/2023</td>\n",
       "      <td>7.0</td>\n",
       "      <td>Animation, Comedy, Family, Adventure, Fantasy</td>\n",
       "      <td>Through a series of unfortunate events, three ...</td>\n",
       "      <td>Óscar Barberán, Thut (voice), Ana Esther Albor...</td>\n",
       "      <td>Momias</td>\n",
       "      <td>Released</td>\n",
       "      <td>Spanish, Castilian</td>\n",
       "      <td>12.3</td>\n",
       "      <td>34.200000</td>\n",
       "      <td>AU</td>\n",
       "      <td>21.900000</td>\n",
       "      <td>4</td>\n",
       "    </tr>\n",
       "    <tr>\n",
       "      <th>4</th>\n",
       "      <td>Supercell</td>\n",
       "      <td>03/17/2023</td>\n",
       "      <td>6.1</td>\n",
       "      <td>Action</td>\n",
       "      <td>Good-hearted teenager William always lived in ...</td>\n",
       "      <td>Skeet Ulrich, Roy Cameron, Anne Heche, Dr Quin...</td>\n",
       "      <td>Supercell</td>\n",
       "      <td>Released</td>\n",
       "      <td>English</td>\n",
       "      <td>77.0</td>\n",
       "      <td>340.941959</td>\n",
       "      <td>US</td>\n",
       "      <td>263.941959</td>\n",
       "      <td>5</td>\n",
       "    </tr>\n",
       "  </tbody>\n",
       "</table>\n",
       "</div>"
      ],
      "text/plain": [
       "                         names       date_x  score  \\\n",
       "0                    Creed III  03/02/2023     7.3   \n",
       "1     Avatar: The Way of Water  12/15/2022     7.8   \n",
       "2  The Super Mario Bros. Movie  04/05/2023     7.6   \n",
       "3                      Mummies  01/05/2023     7.0   \n",
       "4                    Supercell  03/17/2023     6.1   \n",
       "\n",
       "                                           genre  \\\n",
       "0                                  Drama, Action   \n",
       "1             Science Fiction, Adventure, Action   \n",
       "2  Animation, Adventure, Family, Fantasy, Comedy   \n",
       "3  Animation, Comedy, Family, Adventure, Fantasy   \n",
       "4                                         Action   \n",
       "\n",
       "                                            overview  \\\n",
       "0  After dominating the boxing world, Adonis Cree...   \n",
       "1  Set more than a decade after the events of the...   \n",
       "2  While working underground to fix a water main,...   \n",
       "3  Through a series of unfortunate events, three ...   \n",
       "4  Good-hearted teenager William always lived in ...   \n",
       "\n",
       "                                                crew  \\\n",
       "0  Michael B. Jordan, Adonis Creed, Tessa Thompso...   \n",
       "1  Sam Worthington, Jake Sully, Zoe Saldaña, Neyt...   \n",
       "2  Chris Pratt, Mario (voice), Anya Taylor-Joy, P...   \n",
       "3  Óscar Barberán, Thut (voice), Ana Esther Albor...   \n",
       "4  Skeet Ulrich, Roy Cameron, Anne Heche, Dr Quin...   \n",
       "\n",
       "                    orig_title     status            orig_lang  budget_x  \\\n",
       "0                    Creed III   Released              English      75.0   \n",
       "1     Avatar: The Way of Water   Released              English     460.0   \n",
       "2  The Super Mario Bros. Movie   Released              English     100.0   \n",
       "3                       Momias   Released   Spanish, Castilian      12.3   \n",
       "4                    Supercell   Released              English      77.0   \n",
       "\n",
       "       revenue country       profit  s.no  \n",
       "0   271.616668      AU   196.616668     1  \n",
       "1  2316.794914      AU  1856.794914     2  \n",
       "2   724.459031      AU   624.459031     3  \n",
       "3    34.200000      AU    21.900000     4  \n",
       "4   340.941959      US   263.941959     5  "
      ]
     },
     "execution_count": 171,
     "metadata": {},
     "output_type": "execute_result"
    }
   ],
   "source": [
    "#adding serial numbers to teh given dataset\n",
    "data['s.no'] = range(1, len(data) + 1)\n",
    "data['s.no'] = pd.Series(range(1, len(data) + 1), index=data.index)\n",
    "data.head( )"
   ]
  },
  {
   "cell_type": "markdown",
   "id": "6f71400f-cedc-4d3c-a32b-739c0332424c",
   "metadata": {},
   "source": [
    "# EDA ON IMDB DATASET"
   ]
  },
  {
   "cell_type": "code",
   "execution_count": 172,
   "id": "64b63476-b5a8-46ad-83dc-5db32335bf45",
   "metadata": {
    "tags": []
   },
   "outputs": [
    {
     "data": {
      "application/vnd.jupyter.widget-view+json": {
       "model_id": "b2d6ef89378f4b31964005a3de52d1d7",
       "version_major": 2,
       "version_minor": 0
      },
      "text/plain": [
       "Summarize dataset:   0%|          | 0/5 [00:00<?, ?it/s]"
      ]
     },
     "metadata": {},
     "output_type": "display_data"
    },
    {
     "data": {
      "application/vnd.jupyter.widget-view+json": {
       "model_id": "39d660266e6143058371a4e52056e339",
       "version_major": 2,
       "version_minor": 0
      },
      "text/plain": [
       "Generate report structure:   0%|          | 0/1 [00:00<?, ?it/s]"
      ]
     },
     "metadata": {},
     "output_type": "display_data"
    },
    {
     "data": {
      "application/vnd.jupyter.widget-view+json": {
       "model_id": "",
       "version_major": 2,
       "version_minor": 0
      },
      "text/plain": [
       "Render widgets:   0%|          | 0/1 [00:00<?, ?it/s]"
      ]
     },
     "metadata": {},
     "output_type": "display_data"
    },
    {
     "data": {
      "application/vnd.jupyter.widget-view+json": {
       "model_id": "6d67269e7ee74d1a8b46b4a3a12ceef9",
       "version_major": 2,
       "version_minor": 0
      },
      "text/plain": [
       "VBox(children=(Tab(children=(Tab(children=(GridBox(children=(VBox(children=(GridspecLayout(children=(HTML(valu…"
      ]
     },
     "metadata": {},
     "output_type": "display_data"
    },
    {
     "data": {
      "application/vnd.jupyter.widget-view+json": {
       "model_id": "d63441eb7bfb494ab08092550188f44a",
       "version_major": 2,
       "version_minor": 0
      },
      "text/plain": [
       "Summarize dataset:   0%|          | 0/5 [00:00<?, ?it/s]"
      ]
     },
     "metadata": {},
     "output_type": "display_data"
    },
    {
     "data": {
      "application/vnd.jupyter.widget-view+json": {
       "model_id": "e1653b26547443e9bb2c2e1b85b4866e",
       "version_major": 2,
       "version_minor": 0
      },
      "text/plain": [
       "Generate report structure:   0%|          | 0/1 [00:00<?, ?it/s]"
      ]
     },
     "metadata": {},
     "output_type": "display_data"
    },
    {
     "data": {
      "application/vnd.jupyter.widget-view+json": {
       "model_id": "7e7e33f16377489ea879513dac4832af",
       "version_major": 2,
       "version_minor": 0
      },
      "text/plain": [
       "Render HTML:   0%|          | 0/1 [00:00<?, ?it/s]"
      ]
     },
     "metadata": {},
     "output_type": "display_data"
    },
    {
     "data": {
      "application/vnd.jupyter.widget-view+json": {
       "model_id": "fcd05d2b229a4489a38adfe4d226d107",
       "version_major": 2,
       "version_minor": 0
      },
      "text/plain": [
       "Export report to file:   0%|          | 0/1 [00:00<?, ?it/s]"
      ]
     },
     "metadata": {},
     "output_type": "display_data"
    }
   ],
   "source": [
    "#eda on imdb dataset\n",
    "from pandas_profiling import ProfileReport\n",
    "profile = ProfileReport(data)\n",
    "profile.to_widgets()\n",
    "profile = ProfileReport(data, explorative=True, minimal=True, title=\"Your Data Report\")\n",
    "profile.to_file(\"data_report.html\")"
   ]
  },
  {
   "cell_type": "markdown",
   "id": "74b5242f-caa7-4765-be4f-142fbb6c13e7",
   "metadata": {},
   "source": [
    "# CORRELATION ON IMDB DATASET"
   ]
  },
  {
   "cell_type": "code",
   "execution_count": 173,
   "id": "4cceeb0b-5e9a-4110-b2c0-36d6c4b96d8a",
   "metadata": {},
   "outputs": [],
   "source": [
    "#corelation of the data between single values\n",
    "corr1=data['score'].corr(data['budget_x'])\n",
    "corr2=data['score'].corr(data['revenue'])\n",
    "corr3=data['score'].corr(data['profit'])\n",
    "corr4=data['budget_x'].corr(data['revenue'])\n",
    "corr5=data['budget_x'].corr(data['profit'])\n",
    "corr6=data['revenue'].corr(data['profit'])"
   ]
  },
  {
   "cell_type": "code",
   "execution_count": 174,
   "id": "cf3b0d8b-76d5-4dbe-ac52-c5bc0d7b607f",
   "metadata": {
    "tags": []
   },
   "outputs": [
    {
     "name": "stdout",
     "output_type": "stream",
     "text": [
      "the correlation between the scores and the budget is \n",
      " -0.21437428672756229\n",
      "the correlation between the scores and the revenue is \n",
      " 0.09092918696676572\n",
      "the correlation between the scores and the profit is \n",
      " 0.1544586295715517\n",
      "the correlation between the budget and the revenue is \n",
      " 0.6827657476017076\n",
      "the correlation between the budget and the profit is \n",
      " 0.5473815417779312\n",
      "the correlation between the revenue and the profit is \n",
      " -0.21437428672756229\n"
     ]
    }
   ],
   "source": [
    "print('the correlation between the scores and the budget is \\n',corr1)\n",
    "print('the correlation between the scores and the revenue is \\n',corr2)\n",
    "print('the correlation between the scores and the profit is \\n',corr3)\n",
    "print('the correlation between the budget and the revenue is \\n',corr4)\n",
    "print('the correlation between the budget and the profit is \\n',corr5)\n",
    "print('the correlation between the revenue and the profit is \\n',corr1)"
   ]
  },
  {
   "cell_type": "code",
   "execution_count": 175,
   "id": "0072d4c0-e885-4c13-ae78-58e13cdebd56",
   "metadata": {
    "tags": []
   },
   "outputs": [
    {
     "name": "stdout",
     "output_type": "stream",
     "text": [
      "the correlation matri for numeric columns is: \n",
      "\n"
     ]
    },
    {
     "data": {
      "text/html": [
       "<div>\n",
       "<style scoped>\n",
       "    .dataframe tbody tr th:only-of-type {\n",
       "        vertical-align: middle;\n",
       "    }\n",
       "\n",
       "    .dataframe tbody tr th {\n",
       "        vertical-align: top;\n",
       "    }\n",
       "\n",
       "    .dataframe thead th {\n",
       "        text-align: right;\n",
       "    }\n",
       "</style>\n",
       "<table border=\"1\" class=\"dataframe\">\n",
       "  <thead>\n",
       "    <tr style=\"text-align: right;\">\n",
       "      <th></th>\n",
       "      <th>score</th>\n",
       "      <th>budget_x</th>\n",
       "      <th>revenue</th>\n",
       "      <th>profit</th>\n",
       "    </tr>\n",
       "  </thead>\n",
       "  <tbody>\n",
       "    <tr>\n",
       "      <th>score</th>\n",
       "      <td>1.000000</td>\n",
       "      <td>-0.214374</td>\n",
       "      <td>0.090929</td>\n",
       "      <td>0.154459</td>\n",
       "    </tr>\n",
       "    <tr>\n",
       "      <th>budget_x</th>\n",
       "      <td>-0.214374</td>\n",
       "      <td>1.000000</td>\n",
       "      <td>0.682766</td>\n",
       "      <td>0.547382</td>\n",
       "    </tr>\n",
       "    <tr>\n",
       "      <th>revenue</th>\n",
       "      <td>0.090929</td>\n",
       "      <td>0.682766</td>\n",
       "      <td>1.000000</td>\n",
       "      <td>0.985191</td>\n",
       "    </tr>\n",
       "    <tr>\n",
       "      <th>profit</th>\n",
       "      <td>0.154459</td>\n",
       "      <td>0.547382</td>\n",
       "      <td>0.985191</td>\n",
       "      <td>1.000000</td>\n",
       "    </tr>\n",
       "  </tbody>\n",
       "</table>\n",
       "</div>"
      ],
      "text/plain": [
       "             score  budget_x   revenue    profit\n",
       "score     1.000000 -0.214374  0.090929  0.154459\n",
       "budget_x -0.214374  1.000000  0.682766  0.547382\n",
       "revenue   0.090929  0.682766  1.000000  0.985191\n",
       "profit    0.154459  0.547382  0.985191  1.000000"
      ]
     },
     "execution_count": 175,
     "metadata": {},
     "output_type": "execute_result"
    }
   ],
   "source": [
    "#teh correlation between multiple columns\n",
    "sel_cols=['score','budget_x','revenue','profit']\n",
    "corr_matrix=data[sel_cols].corr()\n",
    "print('the correlation matri for numeric columns is: \\n')\n",
    "corr_matrix"
   ]
  },
  {
   "cell_type": "markdown",
   "id": "355ca921-073a-437d-a3c4-4eb5328a9f6d",
   "metadata": {},
   "source": [
    "# DATA VISUALIZATION ON IMDB DATASET"
   ]
  },
  {
   "cell_type": "code",
   "execution_count": 176,
   "id": "025f0847-1eca-4c84-ae08-9c7212594440",
   "metadata": {},
   "outputs": [
    {
     "data": {
      "image/png": "[encoded data removed]",
      "text/plain": [
       "<Figure size 1200x400 with 1 Axes>"
      ]
     },
     "metadata": {},
     "output_type": "display_data"
    }
   ],
   "source": [
    "'''Drawing bar graph based on top 10 years of most number of movies releases.'''\n",
    "import matplotlib\n",
    "matplotlib.use('TkAgg')\n",
    "import matplotlib.pyplot as plt\n",
    "%matplotlib inline\n",
    "data['date_x']=pd.to_datetime(data['date_x'])\n",
    "data['year']=data['date_x'].dt.year\n",
    "data['year'].value_counts().head(20).plot.bar(figsize=(12,4))\n",
    "plt.show()"
   ]
  },
  {
   "cell_type": "code",
   "execution_count": 177,
   "id": "6ec492aa-1aa1-48d8-a5ad-72b68f1ec17d",
   "metadata": {
    "tags": []
   },
   "outputs": [
    {
     "data": {
      "image/png": "[encoded data removed]",
      "text/plain": [
       "<Figure size 1000x800 with 2 Axes>"
      ]
     },
     "metadata": {},
     "output_type": "display_data"
    }
   ],
   "source": [
    "import matplotlib\n",
    "matplotlib.use('TkAgg')\n",
    "import matplotlib.pyplot as plt\n",
    "%matplotlib inline\n",
    "plt.figure(figsize=(10,8))\n",
    "sns.heatmap(corr_matrix, annot=True, cmap='coolwarm', fmt='.2f', linewidths=0.5)\n",
    "plt.title('Correlation Heatmap')\n",
    "plt.savefig('correlation_heatmap.png')\n",
    "plt.show()"
   ]
  },
  {
   "cell_type": "code",
   "execution_count": 178,
   "id": "852110fc-e8a3-4251-bb6f-4a50acf7157f",
   "metadata": {},
   "outputs": [
    {
     "data": {
      "image/png": "[encoded data removed]",
      "text/plain": [
       "<Figure size 1200x400 with 1 Axes>"
      ]
     },
     "metadata": {},
     "output_type": "display_data"
    }
   ],
   "source": [
    "'''drawing the bar graph based on the top 20 years of most numbers of movies release'''\n",
    "import matplotlib\n",
    "matplotlib.use('TkAgg')\n",
    "import matplotlib.pyplot as plt\n",
    "%matplotlib inline\n",
    "data['date_x']=pd.to_datetime(data['date_x'])\n",
    "data['year']=data['date_x'].dt.year\n",
    "data['year'].value_counts().head(20).plot.bar(figsize=(12,4))\n",
    "plt.show()"
   ]
  },
  {
   "cell_type": "code",
   "execution_count": 179,
   "id": "bd77873a-6944-414c-9efa-9cf2eb93bd38",
   "metadata": {
    "tags": []
   },
   "outputs": [
    {
     "data": {
      "image/png": "[encoded data removed]",
      "text/plain": [
       "<Figure size 1200x400 with 1 Axes>"
      ]
     },
     "metadata": {},
     "output_type": "display_data"
    }
   ],
   "source": [
    "'''top 10 highest profit movies'''\n",
    "top10=data.nlargest(10,'profit')\n",
    "top10.index=top10.names\n",
    "top10[['names','profit']].plot.bar(figsize=(12,4), color='green')\n",
    "plt.show()"
   ]
  },
  {
   "cell_type": "code",
   "execution_count": 180,
   "id": "b6e53f1f-e52c-42de-9c3c-186dfb9d03a4",
   "metadata": {},
   "outputs": [
    {
     "data": {
      "image/png": "[encoded data removed]",
      "text/plain": [
       "<Figure size 640x480 with 2 Axes>"
      ]
     },
     "metadata": {},
     "output_type": "display_data"
    }
   ],
   "source": [
    "'''popularity vs budget'''\n",
    "import matplotlib\n",
    "matplotlib.use('TkAgg')\n",
    "import matplotlib.pyplot as plt\n",
    "%matplotlib inline\n",
    "plt.scatter(data['score'],data['budget_x'])\n",
    "plt.title(\"IMDB Popularity Vs Budget\")\n",
    "plt.xlabel(\"Popularity\")\n",
    "plt.ylabel(\"Budget\")\n",
    "plt.colorbar(fraction=.025)\n",
    "plt.show()"
   ]
  },
  {
   "cell_type": "code",
   "execution_count": null,
   "id": "4d8fea89-1e03-4c3e-821c-081957eeba56",
   "metadata": {
    "tags": []
   },
   "outputs": [],
   "source": [
    "#number of movies released in each genre\n",
    "data_split = data['genre'].str.split(',', expand=True).stack()\n",
    "unique_genres = data_split.unique()\n",
    "data['genre'] = data['genre'].str.strip()\n",
    "genre_counts = data_split.value_counts()\n",
    "genre_counts.plot.bar(figsize=(12,6))\n",
    "plt.xlabel('Genre')\n",
    "plt.ylabel('Number of Movies')\n",
    "plt.title('Number of Movies in Each Genre')\n",
    "plt.xticks(rotation=45, ha='right')\n",
    "plt.tight_layout()\n",
    "plt.show()"
   ]
  }
 ],
 "metadata": {
  "kernelspec": {
   "display_name": "Python 3 (ipykernel)",
   "language": "python",
   "name": "python3"
  },
  "language_info": {
   "codemirror_mode": {
    "name": "ipython",
    "version": 3
   },
   "file_extension": ".py",
   "mimetype": "text/x-python",
   "name": "python",
   "nbconvert_exporter": "python",
   "pygments_lexer": "ipython3",
   "version": "3.10.9"
  }
 },
 "nbformat": 4,
 "nbformat_minor": 5
}
